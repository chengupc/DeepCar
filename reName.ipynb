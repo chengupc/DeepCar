{
 "cells": [
  {
   "cell_type": "code",
   "execution_count": 24,
   "metadata": {
    "collapsed": true
   },
   "outputs": [],
   "source": []
  },
  {
   "cell_type": "code",
   "execution_count": 72,
   "metadata": {
    "collapsed": false,
    "scrolled": true
   },
   "outputs": [
    {
     "name": "stdout",
     "output_type": "stream",
     "text": [
      "11tub\n",
      "12tub\n",
      "13tub\n",
      "14tub\n",
      "15tub\n",
      "16tub\n",
      "1tub\n",
      "2tub\n",
      "3tub\n",
      "4tub\n",
      "5tub\n",
      "6tub\n",
      "7tub\n",
      "8tub\n",
      "9tub\n",
      "ok\n"
     ]
    }
   ],
   "source": [
    "import os\n",
    "import json\n",
    "import shutil\n",
    "\n",
    "def renameAll(path, num):\n",
    "    for file in os.listdir(path):\n",
    "        if file.startswith(\"r\"):\n",
    "\n",
    "            temp = file.split(\"_\")[1]\n",
    "            temp = int(temp.split(\".\")[0])\n",
    "            \n",
    "            in_json = open(path+file,\"r\")  \n",
    "            out_json = open(path+\"record_{}.json\".format(temp+num),\"w\")\n",
    "            \n",
    "            jsonData = json.load(in_json)\n",
    "            jsonData[\"cam/image_array\"] = \"{}_cam-image_array_.jpg\".format(temp+num)\n",
    "            \n",
    "            out_json.write(json.dumps(jsonData))\n",
    "            \n",
    "            in_json.close()\n",
    "            out_json.close()\n",
    "            \n",
    "            os.unlink(path+file)\n",
    "            \n",
    "        elif file.endswith(\"jpg\"):\n",
    "            temp = int(file.split(\"_\")[0])\n",
    "            os.rename(path+file,path+\"{}_cam-image_array_.jpg\".format(temp+num))\n",
    "    return\n",
    "\n",
    "def getLen(path):\n",
    "    files = os.listdir(path)\n",
    "    imgs = []\n",
    "    for file in files:\n",
    "        if file.endswith(\"jpg\"):\n",
    "            imgs.append(file)\n",
    "    return len(imgs)\n",
    "\n",
    "def renameDir(path):\n",
    "    files = os.listdir(path)\n",
    "    for ind ,file in enumerate(files):\n",
    "        shutil.move(path+file,path+\"{}tub\".format(ind+1))\n",
    "\n",
    "\n",
    "\n",
    "if __name__==\"__main__\":\n",
    "    path = \"data/\"\n",
    "#     renameDir(path)\n",
    "    \n",
    "    \n",
    "    files = os.listdir(path)\n",
    "    imgNum = getLen(path+files[0]+\"/\")\n",
    "    \n",
    "    for file in files[1:]:\n",
    "        imgNum += getLen(path+file+\"/\")\n",
    "        renameAll(path+file+\"/\",imgNum)\n",
    "        print(\"{}\".format(file))    \n",
    "    print(\"ok\")"
   ]
  }
 ],
 "metadata": {
  "anaconda-cloud": {},
  "kernelspec": {
   "display_name": "Python [default]",
   "language": "python",
   "name": "python3"
  },
  "language_info": {
   "codemirror_mode": {
    "name": "ipython",
    "version": 3
   },
   "file_extension": ".py",
   "mimetype": "text/x-python",
   "name": "python",
   "nbconvert_exporter": "python",
   "pygments_lexer": "ipython3",
   "version": "3.5.2"
  }
 },
 "nbformat": 4,
 "nbformat_minor": 1
}
